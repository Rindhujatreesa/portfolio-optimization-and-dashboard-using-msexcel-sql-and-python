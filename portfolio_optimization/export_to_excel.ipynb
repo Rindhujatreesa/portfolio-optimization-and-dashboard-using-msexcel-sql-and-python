{
 "cells": [
  {
   "cell_type": "code",
   "execution_count": 9,
   "metadata": {},
   "outputs": [],
   "source": [
    "import yfinance as yf\n",
    "import pandas as pd\n",
    "from datetime import datetime, timedelta\n",
    "import os"
   ]
  },
  {
   "cell_type": "code",
   "execution_count": 10,
   "metadata": {},
   "outputs": [
    {
     "name": "stdout",
     "output_type": "stream",
     "text": [
      "2014-06-28 17:07:29.915817\n"
     ]
    }
   ],
   "source": [
    "tickers = ['SPY', 'BND', 'GLD', 'QQQ', 'VTI']\n",
    "end_date = datetime.today()\n",
    "start_date = end_date - timedelta(days=10*365)\n",
    "print(start_date)"
   ]
  },
  {
   "cell_type": "code",
   "execution_count": 11,
   "metadata": {},
   "outputs": [
    {
     "name": "stderr",
     "output_type": "stream",
     "text": [
      "[*********************100%%**********************]  1 of 1 completed\n",
      "[*********************100%%**********************]  1 of 1 completed\n",
      "[*********************100%%**********************]  1 of 1 completed\n",
      "[*********************100%%**********************]  1 of 1 completed\n",
      "[*********************100%%**********************]  1 of 1 completed"
     ]
    },
    {
     "name": "stdout",
     "output_type": "stream",
     "text": [
      "                   SPY        BND         GLD         QQQ         VTI\n",
      "Date                                                                 \n",
      "2014-06-30  163.820328  62.729504  128.039993   86.641144   85.675911\n",
      "2014-07-01  164.916809  62.608681  127.699997   87.591408   86.290474\n",
      "2014-07-02  165.084167  62.440491  127.699997   87.739021   86.239967\n",
      "2014-07-03  165.896118  62.364063  127.160004   88.292572   86.694565\n",
      "2014-07-07  165.318542  62.440491  127.019997   88.025017   86.239967\n",
      "...                ...        ...         ...         ...         ...\n",
      "2024-06-18  546.726196  72.639999  215.470001  484.440002  269.399994\n",
      "2024-06-20  545.240967  72.500000  218.160004  480.705963  268.720001\n",
      "2024-06-21  544.510010  72.519997  214.779999  479.417999  268.309998\n",
      "2024-06-24  542.739990  72.559998  215.630005  473.959991  267.859985\n",
      "2024-06-25  544.830017  72.599998  214.559998  479.380005  268.739990\n",
      "\n",
      "[2514 rows x 5 columns]\n"
     ]
    },
    {
     "name": "stderr",
     "output_type": "stream",
     "text": [
      "\n"
     ]
    }
   ],
   "source": [
    "adj_close_df = pd.DataFrame()\n",
    "for ticker in tickers:\n",
    "    data = yf.download(ticker, start = start_date, end = end_date)\n",
    "    adj_close_df[ticker] = data['Adj Close']\n",
    "\n",
    "print(adj_close_df)"
   ]
  },
  {
   "cell_type": "code",
   "execution_count": 12,
   "metadata": {},
   "outputs": [],
   "source": [
    "output_location = r'/Users/rindhujajohnson/Documents/GitHub/portfolio-optimization'\n",
    "output_file = os.path.join(output_location, 'stock_prices_ new.xlsx')\n",
    "adj_close_df.to_excel(output_file)"
   ]
  }
 ],
 "metadata": {
  "kernelspec": {
   "display_name": "Python 3",
   "language": "python",
   "name": "python3"
  },
  "language_info": {
   "codemirror_mode": {
    "name": "ipython",
    "version": 3
   },
   "file_extension": ".py",
   "mimetype": "text/x-python",
   "name": "python",
   "nbconvert_exporter": "python",
   "pygments_lexer": "ipython3",
   "version": "3.11.6"
  }
 },
 "nbformat": 4,
 "nbformat_minor": 2
}
