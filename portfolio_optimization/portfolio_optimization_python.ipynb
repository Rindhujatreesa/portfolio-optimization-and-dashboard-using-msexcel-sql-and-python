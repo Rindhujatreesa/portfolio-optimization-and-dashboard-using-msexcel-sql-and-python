{
 "cells": [
  {
   "cell_type": "markdown",
   "metadata": {},
   "source": [
    "# Stock Portfolio Optimization"
   ]
  },
  {
   "cell_type": "markdown",
   "metadata": {},
   "source": [
    "### Import necessary libraries"
   ]
  },
  {
   "cell_type": "code",
   "execution_count": 1,
   "metadata": {},
   "outputs": [],
   "source": [
    "import pandas as pd\n",
    "import numpy as np \n",
    "import yfinance as yf\n",
    "from datetime import datetime, timedelta\n",
    "from scipy.optimize import minimize\n",
    "import seaborn as sns"
   ]
  },
  {
   "cell_type": "markdown",
   "metadata": {},
   "source": [
    "### Define the tickers and the date range"
   ]
  },
  {
   "cell_type": "code",
   "execution_count": 2,
   "metadata": {},
   "outputs": [
    {
     "name": "stdout",
     "output_type": "stream",
     "text": [
      "2019-07-01 18:23:16.055487\n"
     ]
    }
   ],
   "source": [
    "tickers = ['SPY', 'BND', 'GLD', 'QQQ', 'VTI']\n",
    "end_date = datetime.today()\n",
    "start_date = end_date - timedelta(days=5*365)\n",
    "print(start_date)"
   ]
  },
  {
   "cell_type": "markdown",
   "metadata": {},
   "source": [
    "### Download the Adjusted Close Price\n",
    "\n",
    "It ensures the dividend is weighted in the portfolio"
   ]
  },
  {
   "cell_type": "code",
   "execution_count": 3,
   "metadata": {},
   "outputs": [
    {
     "name": "stderr",
     "output_type": "stream",
     "text": [
      "[*********************100%%**********************]  1 of 1 completed\n",
      "[*********************100%%**********************]  1 of 1 completed\n",
      "[*********************100%%**********************]  1 of 1 completed\n",
      "[*********************100%%**********************]  1 of 1 completed\n",
      "[*********************100%%**********************]  1 of 1 completed"
     ]
    },
    {
     "name": "stdout",
     "output_type": "stream",
     "text": [
      "                   SPY        BND         GLD         QQQ         VTI\n",
      "Date                                                                 \n",
      "2019-07-01  273.268127  72.826820  130.619995  183.335983  139.571030\n",
      "2019-07-02  273.979767  72.967407  133.410004  184.062515  139.894180\n",
      "2019-07-03  276.170319  73.099258  133.630005  185.447784  140.946884\n",
      "2019-07-05  275.855988  72.756538  132.139999  185.069962  140.863785\n",
      "2019-07-08  274.340271  72.747742  131.289993  183.771942  140.106567\n",
      "...                ...        ...         ...         ...         ...\n",
      "2024-06-24  542.739990  72.559998  215.630005  473.959991  266.913361\n",
      "2024-06-25  544.830017  72.599998  214.559998  479.380005  267.790253\n",
      "2024-06-26  545.510010  72.260002  212.580002  480.369995  267.780304\n",
      "2024-06-27  546.369995  72.389999  214.990005  481.609985  268.428009\n",
      "2024-06-28  544.219971  72.050003  215.009995  479.109985  267.510010\n",
      "\n",
      "[1258 rows x 5 columns]\n"
     ]
    },
    {
     "name": "stderr",
     "output_type": "stream",
     "text": [
      "\n"
     ]
    }
   ],
   "source": [
    "adj_close_df = pd.DataFrame()\n",
    "for ticker in tickers:\n",
    "    data = yf.download(ticker, start = start_date, end = end_date)\n",
    "    adj_close_df[ticker] = data['Adj Close']\n",
    "\n",
    "print(adj_close_df)"
   ]
  },
  {
   "cell_type": "markdown",
   "metadata": {},
   "source": [
    "### Calculate the daily returns using Lognormal"
   ]
  },
  {
   "cell_type": "code",
   "execution_count": 4,
   "metadata": {},
   "outputs": [],
   "source": [
    "log_returns = np.log(adj_close_df/adj_close_df.shift(1))"
   ]
  },
  {
   "cell_type": "markdown",
   "metadata": {},
   "source": [
    "### Data Wrangling\n",
    "#### Handling Missing Value"
   ]
  },
  {
   "cell_type": "code",
   "execution_count": 5,
   "metadata": {},
   "outputs": [
    {
     "data": {
      "text/html": [
       "<div>\n",
       "<style scoped>\n",
       "    .dataframe tbody tr th:only-of-type {\n",
       "        vertical-align: middle;\n",
       "    }\n",
       "\n",
       "    .dataframe tbody tr th {\n",
       "        vertical-align: top;\n",
       "    }\n",
       "\n",
       "    .dataframe thead th {\n",
       "        text-align: right;\n",
       "    }\n",
       "</style>\n",
       "<table border=\"1\" class=\"dataframe\">\n",
       "  <thead>\n",
       "    <tr style=\"text-align: right;\">\n",
       "      <th></th>\n",
       "      <th>SPY</th>\n",
       "      <th>BND</th>\n",
       "      <th>GLD</th>\n",
       "      <th>QQQ</th>\n",
       "      <th>VTI</th>\n",
       "    </tr>\n",
       "    <tr>\n",
       "      <th>Date</th>\n",
       "      <th></th>\n",
       "      <th></th>\n",
       "      <th></th>\n",
       "      <th></th>\n",
       "      <th></th>\n",
       "    </tr>\n",
       "  </thead>\n",
       "  <tbody>\n",
       "    <tr>\n",
       "      <th>2019-07-01</th>\n",
       "      <td>NaN</td>\n",
       "      <td>NaN</td>\n",
       "      <td>NaN</td>\n",
       "      <td>NaN</td>\n",
       "      <td>NaN</td>\n",
       "    </tr>\n",
       "  </tbody>\n",
       "</table>\n",
       "</div>"
      ],
      "text/plain": [
       "            SPY  BND  GLD  QQQ  VTI\n",
       "Date                               \n",
       "2019-07-01  NaN  NaN  NaN  NaN  NaN"
      ]
     },
     "execution_count": 5,
     "metadata": {},
     "output_type": "execute_result"
    }
   ],
   "source": [
    "log_returns[log_returns.isnull().any(axis=1)]"
   ]
  },
  {
   "cell_type": "code",
   "execution_count": 6,
   "metadata": {},
   "outputs": [
    {
     "data": {
      "text/html": [
       "<div>\n",
       "<style scoped>\n",
       "    .dataframe tbody tr th:only-of-type {\n",
       "        vertical-align: middle;\n",
       "    }\n",
       "\n",
       "    .dataframe tbody tr th {\n",
       "        vertical-align: top;\n",
       "    }\n",
       "\n",
       "    .dataframe thead th {\n",
       "        text-align: right;\n",
       "    }\n",
       "</style>\n",
       "<table border=\"1\" class=\"dataframe\">\n",
       "  <thead>\n",
       "    <tr style=\"text-align: right;\">\n",
       "      <th></th>\n",
       "      <th>SPY</th>\n",
       "      <th>BND</th>\n",
       "      <th>GLD</th>\n",
       "      <th>QQQ</th>\n",
       "      <th>VTI</th>\n",
       "    </tr>\n",
       "    <tr>\n",
       "      <th>Date</th>\n",
       "      <th></th>\n",
       "      <th></th>\n",
       "      <th></th>\n",
       "      <th></th>\n",
       "      <th></th>\n",
       "    </tr>\n",
       "  </thead>\n",
       "  <tbody>\n",
       "    <tr>\n",
       "      <th>2019-07-02</th>\n",
       "      <td>0.002601</td>\n",
       "      <td>0.001929</td>\n",
       "      <td>0.021135</td>\n",
       "      <td>0.003955</td>\n",
       "      <td>0.002313</td>\n",
       "    </tr>\n",
       "    <tr>\n",
       "      <th>2019-07-03</th>\n",
       "      <td>0.007964</td>\n",
       "      <td>0.001805</td>\n",
       "      <td>0.001648</td>\n",
       "      <td>0.007498</td>\n",
       "      <td>0.007497</td>\n",
       "    </tr>\n",
       "    <tr>\n",
       "      <th>2019-07-05</th>\n",
       "      <td>-0.001139</td>\n",
       "      <td>-0.004699</td>\n",
       "      <td>-0.011213</td>\n",
       "      <td>-0.002039</td>\n",
       "      <td>-0.000590</td>\n",
       "    </tr>\n",
       "    <tr>\n",
       "      <th>2019-07-08</th>\n",
       "      <td>-0.005510</td>\n",
       "      <td>-0.000121</td>\n",
       "      <td>-0.006453</td>\n",
       "      <td>-0.007038</td>\n",
       "      <td>-0.005390</td>\n",
       "    </tr>\n",
       "    <tr>\n",
       "      <th>2019-07-09</th>\n",
       "      <td>0.001246</td>\n",
       "      <td>-0.001330</td>\n",
       "      <td>0.003498</td>\n",
       "      <td>0.004995</td>\n",
       "      <td>0.001778</td>\n",
       "    </tr>\n",
       "    <tr>\n",
       "      <th>...</th>\n",
       "      <td>...</td>\n",
       "      <td>...</td>\n",
       "      <td>...</td>\n",
       "      <td>...</td>\n",
       "      <td>...</td>\n",
       "    </tr>\n",
       "    <tr>\n",
       "      <th>2024-06-24</th>\n",
       "      <td>-0.003256</td>\n",
       "      <td>0.000551</td>\n",
       "      <td>0.003950</td>\n",
       "      <td>-0.011450</td>\n",
       "      <td>-0.001679</td>\n",
       "    </tr>\n",
       "    <tr>\n",
       "      <th>2024-06-25</th>\n",
       "      <td>0.003843</td>\n",
       "      <td>0.000551</td>\n",
       "      <td>-0.004975</td>\n",
       "      <td>0.011371</td>\n",
       "      <td>0.003280</td>\n",
       "    </tr>\n",
       "    <tr>\n",
       "      <th>2024-06-26</th>\n",
       "      <td>0.001247</td>\n",
       "      <td>-0.004694</td>\n",
       "      <td>-0.009271</td>\n",
       "      <td>0.002063</td>\n",
       "      <td>-0.000037</td>\n",
       "    </tr>\n",
       "    <tr>\n",
       "      <th>2024-06-27</th>\n",
       "      <td>0.001575</td>\n",
       "      <td>0.001797</td>\n",
       "      <td>0.011273</td>\n",
       "      <td>0.002578</td>\n",
       "      <td>0.002416</td>\n",
       "    </tr>\n",
       "    <tr>\n",
       "      <th>2024-06-28</th>\n",
       "      <td>-0.003943</td>\n",
       "      <td>-0.004708</td>\n",
       "      <td>0.000093</td>\n",
       "      <td>-0.005204</td>\n",
       "      <td>-0.003426</td>\n",
       "    </tr>\n",
       "  </tbody>\n",
       "</table>\n",
       "<p>1257 rows × 5 columns</p>\n",
       "</div>"
      ],
      "text/plain": [
       "                 SPY       BND       GLD       QQQ       VTI\n",
       "Date                                                        \n",
       "2019-07-02  0.002601  0.001929  0.021135  0.003955  0.002313\n",
       "2019-07-03  0.007964  0.001805  0.001648  0.007498  0.007497\n",
       "2019-07-05 -0.001139 -0.004699 -0.011213 -0.002039 -0.000590\n",
       "2019-07-08 -0.005510 -0.000121 -0.006453 -0.007038 -0.005390\n",
       "2019-07-09  0.001246 -0.001330  0.003498  0.004995  0.001778\n",
       "...              ...       ...       ...       ...       ...\n",
       "2024-06-24 -0.003256  0.000551  0.003950 -0.011450 -0.001679\n",
       "2024-06-25  0.003843  0.000551 -0.004975  0.011371  0.003280\n",
       "2024-06-26  0.001247 -0.004694 -0.009271  0.002063 -0.000037\n",
       "2024-06-27  0.001575  0.001797  0.011273  0.002578  0.002416\n",
       "2024-06-28 -0.003943 -0.004708  0.000093 -0.005204 -0.003426\n",
       "\n",
       "[1257 rows x 5 columns]"
      ]
     },
     "execution_count": 6,
     "metadata": {},
     "output_type": "execute_result"
    }
   ],
   "source": [
    "# the first row is null due to the lognormal calculation and is therefore removed from the dataframe\n",
    "log_returns = log_returns.dropna()\n",
    "log_returns"
   ]
  },
  {
   "cell_type": "markdown",
   "metadata": {},
   "source": [
    "### Covariance Matrix"
   ]
  },
  {
   "cell_type": "code",
   "execution_count": 7,
   "metadata": {},
   "outputs": [
    {
     "name": "stdout",
     "output_type": "stream",
     "text": [
      "          SPY       BND       GLD       QQQ       VTI\n",
      "SPY  0.043989  0.002958  0.003971  0.049557  0.045041\n",
      "BND  0.002958  0.004819  0.003896  0.003593  0.003150\n",
      "GLD  0.003971  0.003896  0.023410  0.005345  0.004189\n",
      "QQQ  0.049557  0.003593  0.005345  0.064344  0.050691\n",
      "VTI  0.045041  0.003150  0.004189  0.050691  0.046493\n"
     ]
    }
   ],
   "source": [
    "cov_matrix = log_returns.cov()*252 #annualized covariance \n",
    "print(cov_matrix)"
   ]
  },
  {
   "cell_type": "code",
   "execution_count": 8,
   "metadata": {},
   "outputs": [
    {
     "data": {
      "text/plain": [
       "<Axes: >"
      ]
     },
     "execution_count": 8,
     "metadata": {},
     "output_type": "execute_result"
    },
    {
     "data": {
      "image/png": "[encoded data removed]",
      "text/plain": [
       "<Figure size 640x480 with 2 Axes>"
      ]
     },
     "metadata": {},
     "output_type": "display_data"
    }
   ],
   "source": [
    "sns.heatmap(cov_matrix)"
   ]
  },
  {
   "cell_type": "markdown",
   "metadata": {},
   "source": [
    "### Portfolio Metrics"
   ]
  },
  {
   "cell_type": "markdown",
   "metadata": {},
   "source": [
    "#### 1. Portfolio Risk or Standard Deviation($\\sigma$)"
   ]
  },
  {
   "cell_type": "code",
   "execution_count": 9,
   "metadata": {},
   "outputs": [],
   "source": [
    "def std_dev(weights, cov_matrix):\n",
    "    variance = weights.T @ cov_matrix @ weights\n",
    "    return np.sqrt(variance)"
   ]
  },
  {
   "cell_type": "markdown",
   "metadata": {},
   "source": [
    "#### 2. Expected Return of the Portfolio\n",
    "\n",
    "*Based on the assumption that the future returns are based on historical returns.*"
   ]
  },
  {
   "cell_type": "code",
   "execution_count": 10,
   "metadata": {},
   "outputs": [],
   "source": [
    "def exp_returns(weights, log_returns):\n",
    "    return np.sum(log_returns.mean()*weights*252) #annualized return"
   ]
  },
  {
   "cell_type": "markdown",
   "metadata": {},
   "source": [
    "#### 4. Sharpe ratio \n",
    "\n",
    "Considers the total (systematic ($\\beta$) and unsystematic) risk ($\\sigma$).\n",
    "\n",
    "$\\text{Sharpe Ratio} = \\frac{\\text{Portfolio Return}(R_p) - \\text{Risk Free Rate}(R_f)}{\\sigma}$"
   ]
  },
  {
   "cell_type": "code",
   "execution_count": 11,
   "metadata": {},
   "outputs": [],
   "source": [
    "def sharpe_ratio(weights, log_returns, cov_matrix, risk_free_rate):\n",
    "    return (exp_returns(weights, log_returns) - risk_free_rate) / std_dev(weights, cov_matrix)"
   ]
  },
  {
   "cell_type": "markdown",
   "metadata": {},
   "source": [
    "### Retrieving the Risk Free Rate\n",
    "\n",
    "The ten-year treasury rate obtained from FRED API is used as the risk free rate parameter in this portfolio optimization"
   ]
  },
  {
   "cell_type": "code",
   "execution_count": 12,
   "metadata": {},
   "outputs": [
    {
     "name": "stdout",
     "output_type": "stream",
     "text": [
      "0.044800000000000006\n"
     ]
    }
   ],
   "source": [
    "from fredapi import Fred\n",
    "\n",
    "fred = Fred(api_key='70a5960bdec357f09a4d4922e4c749d7')\n",
    "ten_year_treasury_rate = fred.get_series_latest_release('GS10') / 100 #convert the whole number into percentage\n",
    "risk_free_rate = ten_year_treasury_rate.iloc[-1]\n",
    "print(risk_free_rate)"
   ]
  },
  {
   "cell_type": "markdown",
   "metadata": {},
   "source": [
    "### Portfolio Optimization"
   ]
  },
  {
   "cell_type": "markdown",
   "metadata": {},
   "source": [
    "#### 1. Negative Sharpe Ratio\n",
    "\n",
    "To obtain the maximum Sharpe ratio to be used by scipy.optimize.minimize() function"
   ]
  },
  {
   "cell_type": "code",
   "execution_count": 13,
   "metadata": {},
   "outputs": [],
   "source": [
    "def neg_sharpe_ratio(weights, log_returns, cov_matrix, risk_free_rate):\n",
    "    return -sharpe_ratio(weights, log_returns, cov_matrix, risk_free_rate)"
   ]
  },
  {
   "cell_type": "markdown",
   "metadata": {},
   "source": [
    "#### 2. Define the Constraints and Bounds\n",
    "\n",
    "a. Constraint: The sum of the weights should be equal to 1.\n",
    "\n",
    "b. Bound: The percentage of stock from a single ticker. It should be greater than or equal to 0 or less than 50% to minimize the imbalance."
   ]
  },
  {
   "cell_type": "code",
   "execution_count": 14,
   "metadata": {},
   "outputs": [
    {
     "name": "stdout",
     "output_type": "stream",
     "text": [
      "[0.2 0.2 0.2 0.2 0.2]\n"
     ]
    }
   ],
   "source": [
    "constraints = {'type': 'eq', 'fun': lambda weights: np.sum(weights) - 1}\n",
    "bound = [(0.1, 0.4) for _ in range(len(tickers))]\n",
    "initial_weights = np.array([1/len(tickers)]*len(tickers))\n",
    "print(initial_weights) # it will be 20% as there are 5 tickers in this portfolio"
   ]
  },
  {
   "cell_type": "markdown",
   "metadata": {},
   "source": [
    "#### 3. Optimizing the Weights\n",
    "\n",
    "To Maximize the Sharpe Ratio\n",
    "\n",
    "SLSQP: Sequential Least Square Quadratic Programming method is used with the minimize function. It is a numerical optimization technique suitable for solving non-linear optimization problems with constraints"
   ]
  },
  {
   "cell_type": "code",
   "execution_count": 15,
   "metadata": {},
   "outputs": [],
   "source": [
    "optimized_results = minimize(neg_sharpe_ratio, initial_weights, args=(log_returns, cov_matrix, risk_free_rate), method = 'SLSQP', constraints = constraints, bounds = bound)\n",
    "optimized_weights = optimized_results.x"
   ]
  },
  {
   "cell_type": "markdown",
   "metadata": {},
   "source": [
    "#### 4. Analyzing the Optimal Portfolio"
   ]
  },
  {
   "cell_type": "code",
   "execution_count": 16,
   "metadata": {},
   "outputs": [
    {
     "name": "stdout",
     "output_type": "stream",
     "text": [
      "Optimized Weights: \n",
      "SPY: 0.1000\n",
      "BND: 0.1000\n",
      "GLD: 0.3331\n",
      "QQQ: 0.3669\n",
      "VTI: 0.1000\n",
      "\n",
      "Expected Annual Return: 0.1306\n",
      "Expected Annual Volatility: 0.1515\n",
      "Sharpe Ratio: 0.5660\n"
     ]
    }
   ],
   "source": [
    "print(\"Optimized Weights: \")\n",
    "for ticker, weight in zip(tickers, optimized_weights):\n",
    "    print(f'{ticker}: {weight:.4f}')\n",
    "\n",
    "print()\n",
    "\n",
    "optimal_portfolio_returns = exp_returns(optimized_weights, log_returns)\n",
    "optimal_portfolio_volatility = std_dev(optimized_weights, cov_matrix)\n",
    "optimal_sharpe_ratio = sharpe_ratio(optimized_weights, log_returns, cov_matrix, risk_free_rate)\n",
    "\n",
    "print(f'Expected Annual Return: {optimal_portfolio_returns:.4f}')\n",
    "print(f'Expected Annual Volatility: {optimal_portfolio_volatility:.4f}')\n",
    "print(f'Sharpe Ratio: {optimal_sharpe_ratio:.4f}')"
   ]
  },
  {
   "cell_type": "markdown",
   "metadata": {},
   "source": [
    "#### 5. Visualization of Optimal Portfolio"
   ]
  },
  {
   "cell_type": "code",
   "execution_count": 17,
   "metadata": {},
   "outputs": [
    {
     "data": {
      "image/png": "[encoded data removed]",
      "text/plain": [
       "<Figure size 1000x600 with 1 Axes>"
      ]
     },
     "metadata": {},
     "output_type": "display_data"
    }
   ],
   "source": [
    "import matplotlib.pyplot as plt\n",
    "\n",
    "plt.figure(figsize=(10,6))\n",
    "plt.bar(tickers, optimized_weights)\n",
    "\n",
    "plt.xlabel('Assets')\n",
    "plt.ylabel('Optimal Weights')\n",
    "plt.title('Optimized Portfolio')\n",
    "plt.show()"
   ]
  },
  {
   "cell_type": "markdown",
   "metadata": {},
   "source": [
    "We have the optimized portfolio shares of stocks with S & P 500, Vanguard Total Bond Index Fund, SPDR rust, Invesco QQQ Trust, and Vanguard Total Stock Index Fund in the portfolio. The optimization gives minimum risk when the stocks are diversified between the tickers in the following way - \n",
    "\n",
    "| Ticker | % Allocation |\n",
    "|---|---|\n",
    "| SPY | 10 |\n",
    "| BND | 10 |\n",
    "| GLD | 33 |\n",
    "| QQQ | 37 |\n",
    "| VTI | 10 |\n",
    "\n",
    "It implies that a higher investment in Gold and QQQ Trust keeps the portfolio at a lower risk and the maximum return.\n",
    "\n",
    "From this portfolio with the current data, the following can be expected - \n",
    "\n",
    "Annual Return: +13.06% of investment\n",
    "\n",
    "Annual Volatility: 15.15% chances of fluctuations in stock prices\n",
    "\n",
    "Sharpe Ratio: 0.5660\n",
    "\n",
    "Note: For the same portfolio, if the constraints for the bound (the minimum percentage of each stock to be present) is removed, the portfolio will be different, in this case, only two stocks will exist - GLD and QQQ. However, it is risky to invest in just two stocks, therefore, I incorporated the additional constraints!"
   ]
  },
  {
   "cell_type": "markdown",
   "metadata": {},
   "source": []
  }
 ],
 "metadata": {
  "kernelspec": {
   "display_name": "Python 3",
   "language": "python",
   "name": "python3"
  },
  "language_info": {
   "codemirror_mode": {
    "name": "ipython",
    "version": 3
   },
   "file_extension": ".py",
   "mimetype": "text/x-python",
   "name": "python",
   "nbconvert_exporter": "python",
   "pygments_lexer": "ipython3",
   "version": "3.11.6"
  }
 },
 "nbformat": 4,
 "nbformat_minor": 2
}
