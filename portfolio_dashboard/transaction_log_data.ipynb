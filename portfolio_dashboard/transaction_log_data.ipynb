{
 "cells": [
  {
   "cell_type": "markdown",
   "metadata": {},
   "source": [
    "## Creating a Transaction Log Dataset\n",
    "\n",
    "This notebook creates a Portfolio transaction log for the previous and current fiscal year (2023 - 2024 and 2024 - ). \n",
    "\n",
    "A fake transaction log using various stock tickers in US stock markets to build a portfolio dashboard is created. I used data from the Yahoo finance website (https://finance.yahoo.com/) for stock prices. The transaction log contains 500 transactions with the following column names - \n",
    "1) Stock Ticker\n",
    "2) Transaction - Buy/Sell/Dividend\n",
    "3) Date\n",
    "4) Quantity - 0 for dividend transaction, negative numbers for sell transaction\n",
    "5) Price - 0 for dividend transaction\n",
    "6) Dividend - 0 for all except dividend transaction\n",
    "7) Total Amount - () for Sell transactions, 0 for dividend transaction\n",
    "\n",
    "The Number of Stocks Bought should be always greater than or equal to the number of stocks sold!\n",
    "\n",
    "The dividend should be only from stocks that are in the Portfolio!"
   ]
  },
  {
   "cell_type": "code",
   "execution_count": 1,
   "metadata": {},
   "outputs": [],
   "source": [
    "import yfinance as yf\n",
    "import pandas as pd\n",
    "import numpy as np\n",
    "import random\n",
    "from datetime import datetime, timedelta"
   ]
  },
  {
   "cell_type": "code",
   "execution_count": 2,
   "metadata": {},
   "outputs": [],
   "source": [
    "# Define the stock tickers\n",
    "tickers = ['AAPL', 'MSFT', 'GOOGL', 'AMZN', 'META', 'TSLA', 'NFLX', 'NVDA', 'JPM', 'V']"
   ]
  },
  {
   "cell_type": "code",
   "execution_count": 3,
   "metadata": {},
   "outputs": [],
   "source": [
    "# Fetch stock price data for the dates defined as follows\n",
    "start_date = '2023-01-01'\n",
    "end_date = datetime.today()"
   ]
  },
  {
   "cell_type": "code",
   "execution_count": 4,
   "metadata": {},
   "outputs": [
    {
     "name": "stderr",
     "output_type": "stream",
     "text": [
      "[*********************100%%**********************]  10 of 10 completed\n"
     ]
    }
   ],
   "source": [
    "# Download historical data for the tickers\n",
    "data = yf.download(tickers, start=start_date, end=end_date)['Adj Close']"
   ]
  },
  {
   "cell_type": "code",
   "execution_count": 5,
   "metadata": {},
   "outputs": [],
   "source": [
    "# Function to generate a random transaction log\n",
    "def generate_transaction_log(tickers, data, num_transactions=500):\n",
    "    transactions = []\n",
    "    for _ in range(num_transactions):\n",
    "        ticker = random.choice(tickers)\n",
    "        transaction_type = random.choice(['Buy', 'Sell', 'Dividend'])\n",
    "        date = data.index[random.randint(0, len(data) - 1)]\n",
    "        price = data.loc[date, ticker]\n",
    "        \n",
    "        if transaction_type == 'Dividend':\n",
    "            # Ensure dividend is only from stocks in the portfolio\n",
    "            dividend_stocks = [t for t in tickers if random.random() < 0.5]  \n",
    "            ticker = random.choice(dividend_stocks)\n",
    "            dividend = round(random.uniform(0.5, 5.0), 2)\n",
    "            transaction = [ticker, transaction_type, date.strftime('%Y-%m-%d'), 0, 0, dividend, 0]\n",
    "        else:\n",
    "            if transaction_type == 'Sell':\n",
    "                # Ensure the number of stocks bought is greater than or equal to the number of stocks sold\n",
    "                buy_quantity = random.randint(1, 100)\n",
    "                sell_quantity = random.randint(1, buy_quantity)  # Adjusted to meet constraint\n",
    "                quantity = -sell_quantity\n",
    "            else:  # Buy transaction\n",
    "                quantity = random.randint(1, 100)\n",
    "            \n",
    "            total_amount = round(quantity * price, 2)\n",
    "            total_amount_str = f\"({abs(total_amount)})\" if transaction_type == 'Sell' else total_amount\n",
    "            transaction = [ticker, transaction_type, date.strftime('%Y-%m-%d'), quantity, round(price, 2), 0, total_amount_str]\n",
    "        \n",
    "        transactions.append(transaction)\n",
    "    \n",
    "    return transactions"
   ]
  },
  {
   "cell_type": "code",
   "execution_count": 6,
   "metadata": {},
   "outputs": [],
   "source": [
    "# Generate the transaction log\n",
    "transactions = generate_transaction_log(tickers, data)"
   ]
  },
  {
   "cell_type": "code",
   "execution_count": 7,
   "metadata": {},
   "outputs": [
    {
     "data": {
      "text/html": [
       "<div>\n",
       "<style scoped>\n",
       "    .dataframe tbody tr th:only-of-type {\n",
       "        vertical-align: middle;\n",
       "    }\n",
       "\n",
       "    .dataframe tbody tr th {\n",
       "        vertical-align: top;\n",
       "    }\n",
       "\n",
       "    .dataframe thead th {\n",
       "        text-align: right;\n",
       "    }\n",
       "</style>\n",
       "<table border=\"1\" class=\"dataframe\">\n",
       "  <thead>\n",
       "    <tr style=\"text-align: right;\">\n",
       "      <th></th>\n",
       "      <th>0</th>\n",
       "      <th>1</th>\n",
       "      <th>2</th>\n",
       "      <th>3</th>\n",
       "      <th>4</th>\n",
       "      <th>5</th>\n",
       "      <th>6</th>\n",
       "    </tr>\n",
       "  </thead>\n",
       "  <tbody>\n",
       "    <tr>\n",
       "      <th>0</th>\n",
       "      <td>NVDA</td>\n",
       "      <td>Buy</td>\n",
       "      <td>2023-10-24</td>\n",
       "      <td>29</td>\n",
       "      <td>43.65</td>\n",
       "      <td>0.00</td>\n",
       "      <td>1265.95</td>\n",
       "    </tr>\n",
       "    <tr>\n",
       "      <th>1</th>\n",
       "      <td>NFLX</td>\n",
       "      <td>Dividend</td>\n",
       "      <td>2024-01-26</td>\n",
       "      <td>0</td>\n",
       "      <td>0.00</td>\n",
       "      <td>1.80</td>\n",
       "      <td>0</td>\n",
       "    </tr>\n",
       "    <tr>\n",
       "      <th>2</th>\n",
       "      <td>NVDA</td>\n",
       "      <td>Dividend</td>\n",
       "      <td>2023-09-22</td>\n",
       "      <td>0</td>\n",
       "      <td>0.00</td>\n",
       "      <td>4.31</td>\n",
       "      <td>0</td>\n",
       "    </tr>\n",
       "    <tr>\n",
       "      <th>3</th>\n",
       "      <td>META</td>\n",
       "      <td>Sell</td>\n",
       "      <td>2023-07-07</td>\n",
       "      <td>-4</td>\n",
       "      <td>289.93</td>\n",
       "      <td>0.00</td>\n",
       "      <td>(1159.74)</td>\n",
       "    </tr>\n",
       "    <tr>\n",
       "      <th>4</th>\n",
       "      <td>GOOGL</td>\n",
       "      <td>Sell</td>\n",
       "      <td>2023-07-10</td>\n",
       "      <td>-17</td>\n",
       "      <td>116.32</td>\n",
       "      <td>0.00</td>\n",
       "      <td>(1977.38)</td>\n",
       "    </tr>\n",
       "    <tr>\n",
       "      <th>...</th>\n",
       "      <td>...</td>\n",
       "      <td>...</td>\n",
       "      <td>...</td>\n",
       "      <td>...</td>\n",
       "      <td>...</td>\n",
       "      <td>...</td>\n",
       "      <td>...</td>\n",
       "    </tr>\n",
       "    <tr>\n",
       "      <th>495</th>\n",
       "      <td>AAPL</td>\n",
       "      <td>Sell</td>\n",
       "      <td>2023-11-29</td>\n",
       "      <td>-65</td>\n",
       "      <td>188.87</td>\n",
       "      <td>0.00</td>\n",
       "      <td>(12276.71)</td>\n",
       "    </tr>\n",
       "    <tr>\n",
       "      <th>496</th>\n",
       "      <td>V</td>\n",
       "      <td>Sell</td>\n",
       "      <td>2023-10-09</td>\n",
       "      <td>-6</td>\n",
       "      <td>233.08</td>\n",
       "      <td>0.00</td>\n",
       "      <td>(1398.45)</td>\n",
       "    </tr>\n",
       "    <tr>\n",
       "      <th>497</th>\n",
       "      <td>AMZN</td>\n",
       "      <td>Buy</td>\n",
       "      <td>2023-07-25</td>\n",
       "      <td>34</td>\n",
       "      <td>129.13</td>\n",
       "      <td>0.00</td>\n",
       "      <td>4390.42</td>\n",
       "    </tr>\n",
       "    <tr>\n",
       "      <th>498</th>\n",
       "      <td>GOOGL</td>\n",
       "      <td>Buy</td>\n",
       "      <td>2023-05-31</td>\n",
       "      <td>24</td>\n",
       "      <td>122.73</td>\n",
       "      <td>0.00</td>\n",
       "      <td>2945.5</td>\n",
       "    </tr>\n",
       "    <tr>\n",
       "      <th>499</th>\n",
       "      <td>TSLA</td>\n",
       "      <td>Sell</td>\n",
       "      <td>2024-03-01</td>\n",
       "      <td>-3</td>\n",
       "      <td>202.64</td>\n",
       "      <td>0.00</td>\n",
       "      <td>(607.92)</td>\n",
       "    </tr>\n",
       "  </tbody>\n",
       "</table>\n",
       "<p>500 rows × 7 columns</p>\n",
       "</div>"
      ],
      "text/plain": [
       "         0         1           2   3       4     5           6\n",
       "0     NVDA       Buy  2023-10-24  29   43.65  0.00     1265.95\n",
       "1     NFLX  Dividend  2024-01-26   0    0.00  1.80           0\n",
       "2     NVDA  Dividend  2023-09-22   0    0.00  4.31           0\n",
       "3     META      Sell  2023-07-07  -4  289.93  0.00   (1159.74)\n",
       "4    GOOGL      Sell  2023-07-10 -17  116.32  0.00   (1977.38)\n",
       "..     ...       ...         ...  ..     ...   ...         ...\n",
       "495   AAPL      Sell  2023-11-29 -65  188.87  0.00  (12276.71)\n",
       "496      V      Sell  2023-10-09  -6  233.08  0.00   (1398.45)\n",
       "497   AMZN       Buy  2023-07-25  34  129.13  0.00     4390.42\n",
       "498  GOOGL       Buy  2023-05-31  24  122.73  0.00      2945.5\n",
       "499   TSLA      Sell  2024-03-01  -3  202.64  0.00    (607.92)\n",
       "\n",
       "[500 rows x 7 columns]"
      ]
     },
     "execution_count": 7,
     "metadata": {},
     "output_type": "execute_result"
    }
   ],
   "source": [
    "transactions_df = pd.DataFrame(transactions)\n",
    "transactions_df"
   ]
  },
  {
   "cell_type": "code",
   "execution_count": 8,
   "metadata": {},
   "outputs": [
    {
     "data": {
      "text/plain": [
       "0    0\n",
       "1    0\n",
       "2    0\n",
       "3    0\n",
       "4    0\n",
       "5    0\n",
       "6    0\n",
       "dtype: int64"
      ]
     },
     "execution_count": 8,
     "metadata": {},
     "output_type": "execute_result"
    }
   ],
   "source": [
    "transactions_df = transactions_df.dropna()\n",
    "transactions_df.isna().sum()"
   ]
  },
  {
   "cell_type": "markdown",
   "metadata": {},
   "source": [
    "## Storing the Data into MySQL Database for better Data Management"
   ]
  },
  {
   "cell_type": "code",
   "execution_count": 9,
   "metadata": {},
   "outputs": [],
   "source": [
    "#!pip install mysql-connector-python"
   ]
  },
  {
   "cell_type": "code",
   "execution_count": 10,
   "metadata": {},
   "outputs": [],
   "source": [
    "import mysql.connector"
   ]
  },
  {
   "cell_type": "code",
   "execution_count": 11,
   "metadata": {},
   "outputs": [],
   "source": [
    "# Connect to MySQL database\n",
    "conn = mysql.connector.connect(\n",
    "    host='localhost',\n",
    "    user='root',\n",
    "    password='Godricshallow',\n",
    "    database='transactions_log'\n",
    ")\n",
    "cursor = conn.cursor()"
   ]
  },
  {
   "cell_type": "code",
   "execution_count": 12,
   "metadata": {},
   "outputs": [],
   "source": [
    "# Insert transaction log into MySQL\n",
    "insert_query = \"\"\"\n",
    "INSERT INTO transactions_log (stock_ticker, transaction_type, date, quantity, price, dividend, total_amount)\n",
    "VALUES (%s, %s, %s, %s, %s, %s, %s)\n",
    "\"\"\""
   ]
  },
  {
   "cell_type": "code",
   "execution_count": 13,
   "metadata": {},
   "outputs": [],
   "source": [
    "transactions = transactions_df.values.tolist()"
   ]
  },
  {
   "cell_type": "code",
   "execution_count": 14,
   "metadata": {},
   "outputs": [
    {
     "name": "stdout",
     "output_type": "stream",
     "text": [
      "Data inserted successfully into the MySQL database!\n"
     ]
    }
   ],
   "source": [
    "cursor.executemany(insert_query, transactions)\n",
    "\n",
    "# Commit and close the connection\n",
    "conn.commit()\n",
    "cursor.close()\n",
    "conn.close()\n",
    "\n",
    "print(\"Data inserted successfully into the MySQL database!\")"
   ]
  },
  {
   "cell_type": "markdown",
   "metadata": {},
   "source": [
    "## Meta Data\n",
    "\n",
    "1. Stock Tickers: I selected 10 popular stock tickers for the portfolio.\n",
    "2.\tFetch Stock Data: Using yfinance, I fetched the adjusted closing prices for these tickers within the given dates.\n",
    "3.\tGenerate Transactions:\n",
    "\t- Randomly select a ticker and a transaction type (Buy, Sell, Dividend).\n",
    "\t- Pick a random date within the available data.\n",
    "\t- For buy/sell transactions, determine the quantity and calculate the total amount.\n",
    "\t-\tFor dividend transactions, randomly assign a dividend amount.\n",
    "4.\tStructure the Data: The data is stored in a DataFrame with columns for stock ticker, transaction type, date, quantity, price, dividend, and total amount.\n",
    "5.\tSave the Data: The transaction log is saved to an excel file named transaction_log.xlsx.\n",
    "\n",
    "Additional Notes:\n",
    "\n",
    "1) The quantity is positive for buy transactions and negative for sell transactions.\n",
    "2) The price and total amount fields are void (empty) for dividend transactions.\n",
    "3) The dividend field is only populated for dividend transactions.\n",
    "4) The total amount for sell transactions is formatted with parentheses to indicate a negative value."
   ]
  },
  {
   "cell_type": "markdown",
   "metadata": {},
   "source": []
  }
 ],
 "metadata": {
  "kernelspec": {
   "display_name": "Python 3",
   "language": "python",
   "name": "python3"
  },
  "language_info": {
   "codemirror_mode": {
    "name": "ipython",
    "version": 3
   },
   "file_extension": ".py",
   "mimetype": "text/x-python",
   "name": "python",
   "nbconvert_exporter": "python",
   "pygments_lexer": "ipython3",
   "version": "3.11.6"
  }
 },
 "nbformat": 4,
 "nbformat_minor": 2
}
