{
 "cells": [
  {
   "cell_type": "markdown",
   "metadata": {},
   "source": [
    "# Stock Portfolio Optimization - Data Extraction and Storing in MySQL Database"
   ]
  },
  {
   "cell_type": "markdown",
   "metadata": {},
   "source": [
    "### Import necessary libraries"
   ]
  },
  {
   "cell_type": "code",
   "execution_count": 1,
   "metadata": {},
   "outputs": [],
   "source": [
    "import pandas as pd\n",
    "import numpy as np \n",
    "import yfinance as yf\n",
    "from datetime import datetime, timedelta\n",
    "from scipy.optimize import minimize\n",
    "import seaborn as sns"
   ]
  },
  {
   "cell_type": "markdown",
   "metadata": {},
   "source": [
    "### Define the tickers and the date range"
   ]
  },
  {
   "cell_type": "code",
   "execution_count": 2,
   "metadata": {},
   "outputs": [
    {
     "name": "stdout",
     "output_type": "stream",
     "text": [
      "2019-06-24 16:40:30.432232\n"
     ]
    }
   ],
   "source": [
    "tickers = ['SPY', 'BND', 'GLD', 'QQQ', 'VTI']\n",
    "end_date = datetime.today()\n",
    "start_date = end_date - timedelta(days=5*365)\n",
    "print(start_date)"
   ]
  },
  {
   "cell_type": "markdown",
   "metadata": {},
   "source": [
    "### Download the Adjusted Close Price\n",
    "\n",
    "It ensures the dividend is weighted in the portfolio"
   ]
  },
  {
   "cell_type": "code",
   "execution_count": 3,
   "metadata": {},
   "outputs": [
    {
     "name": "stderr",
     "output_type": "stream",
     "text": [
      "[*********************100%%**********************]  1 of 1 completed\n",
      "[*********************100%%**********************]  1 of 1 completed\n",
      "[*********************100%%**********************]  1 of 1 completed\n",
      "[*********************100%%**********************]  1 of 1 completed\n",
      "[*********************100%%**********************]  1 of 1 completed"
     ]
    },
    {
     "name": "stdout",
     "output_type": "stream",
     "text": [
      "                   SPY        BND         GLD         QQQ         VTI\n",
      "Date                                                                 \n",
      "2019-06-24  271.401154  72.700569  133.940002  182.560165  138.870605\n",
      "2019-06-25  268.739258  72.726891  134.199997  179.426285  137.554749\n",
      "2019-06-26  268.471130  72.560287  132.970001  180.260696  137.295273\n",
      "2019-06-27  269.423096  72.770699  132.839996  180.949554  138.120010\n",
      "2019-06-28  270.809601  72.832100  133.199997  181.182388  139.083725\n",
      "...                ...        ...         ...         ...         ...\n",
      "2024-06-14  541.034607  72.660004  215.729996  479.190002  266.690002\n",
      "2024-06-17  545.340637  72.389999  214.610001  485.059998  268.720001\n",
      "2024-06-18  546.726196  72.639999  215.470001  485.209991  269.399994\n",
      "2024-06-20  545.240967  72.500000  218.160004  481.470001  268.720001\n",
      "2024-06-21  544.510010  72.519997  214.779999  480.179993  268.309998\n",
      "\n",
      "[1258 rows x 5 columns]\n"
     ]
    },
    {
     "name": "stderr",
     "output_type": "stream",
     "text": [
      "\n"
     ]
    }
   ],
   "source": [
    "adj_close_df = pd.DataFrame()\n",
    "for ticker in tickers:\n",
    "    data = yf.download(ticker, start = start_date, end = end_date)\n",
    "    adj_close_df[ticker] = data['Adj Close']\n",
    "\n",
    "print(adj_close_df)"
   ]
  },
  {
   "cell_type": "markdown",
   "metadata": {},
   "source": [
    "### Calculate the daily returns using Lognormal"
   ]
  },
  {
   "cell_type": "code",
   "execution_count": 4,
   "metadata": {},
   "outputs": [],
   "source": [
    "log_returns = np.log(adj_close_df/adj_close_df.shift(1))"
   ]
  },
  {
   "cell_type": "markdown",
   "metadata": {},
   "source": [
    "### Data Wrangling\n",
    "#### Handling Missing Value"
   ]
  },
  {
   "cell_type": "code",
   "execution_count": 5,
   "metadata": {},
   "outputs": [
    {
     "data": {
      "text/html": [
       "<div>\n",
       "<style scoped>\n",
       "    .dataframe tbody tr th:only-of-type {\n",
       "        vertical-align: middle;\n",
       "    }\n",
       "\n",
       "    .dataframe tbody tr th {\n",
       "        vertical-align: top;\n",
       "    }\n",
       "\n",
       "    .dataframe thead th {\n",
       "        text-align: right;\n",
       "    }\n",
       "</style>\n",
       "<table border=\"1\" class=\"dataframe\">\n",
       "  <thead>\n",
       "    <tr style=\"text-align: right;\">\n",
       "      <th></th>\n",
       "      <th>SPY</th>\n",
       "      <th>BND</th>\n",
       "      <th>GLD</th>\n",
       "      <th>QQQ</th>\n",
       "      <th>VTI</th>\n",
       "    </tr>\n",
       "    <tr>\n",
       "      <th>Date</th>\n",
       "      <th></th>\n",
       "      <th></th>\n",
       "      <th></th>\n",
       "      <th></th>\n",
       "      <th></th>\n",
       "    </tr>\n",
       "  </thead>\n",
       "  <tbody>\n",
       "    <tr>\n",
       "      <th>2019-06-24</th>\n",
       "      <td>NaN</td>\n",
       "      <td>NaN</td>\n",
       "      <td>NaN</td>\n",
       "      <td>NaN</td>\n",
       "      <td>NaN</td>\n",
       "    </tr>\n",
       "  </tbody>\n",
       "</table>\n",
       "</div>"
      ],
      "text/plain": [
       "            SPY  BND  GLD  QQQ  VTI\n",
       "Date                               \n",
       "2019-06-24  NaN  NaN  NaN  NaN  NaN"
      ]
     },
     "execution_count": 5,
     "metadata": {},
     "output_type": "execute_result"
    }
   ],
   "source": [
    "log_returns[log_returns.isnull().any(axis=1)]"
   ]
  },
  {
   "cell_type": "code",
   "execution_count": 6,
   "metadata": {},
   "outputs": [
    {
     "data": {
      "text/html": [
       "<div>\n",
       "<style scoped>\n",
       "    .dataframe tbody tr th:only-of-type {\n",
       "        vertical-align: middle;\n",
       "    }\n",
       "\n",
       "    .dataframe tbody tr th {\n",
       "        vertical-align: top;\n",
       "    }\n",
       "\n",
       "    .dataframe thead th {\n",
       "        text-align: right;\n",
       "    }\n",
       "</style>\n",
       "<table border=\"1\" class=\"dataframe\">\n",
       "  <thead>\n",
       "    <tr style=\"text-align: right;\">\n",
       "      <th></th>\n",
       "      <th>SPY</th>\n",
       "      <th>BND</th>\n",
       "      <th>GLD</th>\n",
       "      <th>QQQ</th>\n",
       "      <th>VTI</th>\n",
       "    </tr>\n",
       "    <tr>\n",
       "      <th>Date</th>\n",
       "      <th></th>\n",
       "      <th></th>\n",
       "      <th></th>\n",
       "      <th></th>\n",
       "      <th></th>\n",
       "    </tr>\n",
       "  </thead>\n",
       "  <tbody>\n",
       "    <tr>\n",
       "      <th>2019-06-25</th>\n",
       "      <td>-0.009856</td>\n",
       "      <td>0.000362</td>\n",
       "      <td>0.001939</td>\n",
       "      <td>-0.017315</td>\n",
       "      <td>-0.009521</td>\n",
       "    </tr>\n",
       "    <tr>\n",
       "      <th>2019-06-26</th>\n",
       "      <td>-0.000998</td>\n",
       "      <td>-0.002293</td>\n",
       "      <td>-0.009208</td>\n",
       "      <td>0.004640</td>\n",
       "      <td>-0.001888</td>\n",
       "    </tr>\n",
       "    <tr>\n",
       "      <th>2019-06-27</th>\n",
       "      <td>0.003540</td>\n",
       "      <td>0.002896</td>\n",
       "      <td>-0.000978</td>\n",
       "      <td>0.003814</td>\n",
       "      <td>0.005989</td>\n",
       "    </tr>\n",
       "    <tr>\n",
       "      <th>2019-06-28</th>\n",
       "      <td>0.005133</td>\n",
       "      <td>0.000843</td>\n",
       "      <td>0.002706</td>\n",
       "      <td>0.001286</td>\n",
       "      <td>0.006953</td>\n",
       "    </tr>\n",
       "    <tr>\n",
       "      <th>2019-07-01</th>\n",
       "      <td>0.009037</td>\n",
       "      <td>-0.000072</td>\n",
       "      <td>-0.019559</td>\n",
       "      <td>0.013405</td>\n",
       "      <td>0.007038</td>\n",
       "    </tr>\n",
       "    <tr>\n",
       "      <th>...</th>\n",
       "      <td>...</td>\n",
       "      <td>...</td>\n",
       "      <td>...</td>\n",
       "      <td>...</td>\n",
       "      <td>...</td>\n",
       "    </tr>\n",
       "    <tr>\n",
       "      <th>2024-06-14</th>\n",
       "      <td>0.000608</td>\n",
       "      <td>0.001515</td>\n",
       "      <td>0.012876</td>\n",
       "      <td>0.005168</td>\n",
       "      <td>-0.000750</td>\n",
       "    </tr>\n",
       "    <tr>\n",
       "      <th>2024-06-17</th>\n",
       "      <td>0.007927</td>\n",
       "      <td>-0.003723</td>\n",
       "      <td>-0.005205</td>\n",
       "      <td>0.012175</td>\n",
       "      <td>0.007583</td>\n",
       "    </tr>\n",
       "    <tr>\n",
       "      <th>2024-06-18</th>\n",
       "      <td>0.002538</td>\n",
       "      <td>0.003448</td>\n",
       "      <td>0.003999</td>\n",
       "      <td>0.000309</td>\n",
       "      <td>0.002527</td>\n",
       "    </tr>\n",
       "    <tr>\n",
       "      <th>2024-06-20</th>\n",
       "      <td>-0.002720</td>\n",
       "      <td>-0.001929</td>\n",
       "      <td>0.012407</td>\n",
       "      <td>-0.007738</td>\n",
       "      <td>-0.002527</td>\n",
       "    </tr>\n",
       "    <tr>\n",
       "      <th>2024-06-21</th>\n",
       "      <td>-0.001342</td>\n",
       "      <td>0.000276</td>\n",
       "      <td>-0.015615</td>\n",
       "      <td>-0.002683</td>\n",
       "      <td>-0.001527</td>\n",
       "    </tr>\n",
       "  </tbody>\n",
       "</table>\n",
       "<p>1257 rows × 5 columns</p>\n",
       "</div>"
      ],
      "text/plain": [
       "                 SPY       BND       GLD       QQQ       VTI\n",
       "Date                                                        \n",
       "2019-06-25 -0.009856  0.000362  0.001939 -0.017315 -0.009521\n",
       "2019-06-26 -0.000998 -0.002293 -0.009208  0.004640 -0.001888\n",
       "2019-06-27  0.003540  0.002896 -0.000978  0.003814  0.005989\n",
       "2019-06-28  0.005133  0.000843  0.002706  0.001286  0.006953\n",
       "2019-07-01  0.009037 -0.000072 -0.019559  0.013405  0.007038\n",
       "...              ...       ...       ...       ...       ...\n",
       "2024-06-14  0.000608  0.001515  0.012876  0.005168 -0.000750\n",
       "2024-06-17  0.007927 -0.003723 -0.005205  0.012175  0.007583\n",
       "2024-06-18  0.002538  0.003448  0.003999  0.000309  0.002527\n",
       "2024-06-20 -0.002720 -0.001929  0.012407 -0.007738 -0.002527\n",
       "2024-06-21 -0.001342  0.000276 -0.015615 -0.002683 -0.001527\n",
       "\n",
       "[1257 rows x 5 columns]"
      ]
     },
     "execution_count": 6,
     "metadata": {},
     "output_type": "execute_result"
    }
   ],
   "source": [
    "# the first row is null due to the lognormal calculation and is therefore removed from the dataframe\n",
    "log_returns = log_returns.dropna()\n",
    "log_returns"
   ]
  },
  {
   "cell_type": "markdown",
   "metadata": {},
   "source": [
    "### Covariance Matrix"
   ]
  },
  {
   "cell_type": "code",
   "execution_count": 7,
   "metadata": {},
   "outputs": [
    {
     "name": "stdout",
     "output_type": "stream",
     "text": [
      "          SPY       BND       GLD       QQQ       VTI\n",
      "SPY  0.044022  0.002956  0.003943  0.049595  0.045076\n",
      "BND  0.002956  0.004812  0.003887  0.003587  0.003149\n",
      "GLD  0.003943  0.003887  0.023460  0.005299  0.004165\n",
      "QQQ  0.049595  0.003587  0.005299  0.064386  0.050730\n",
      "VTI  0.045076  0.003149  0.004165  0.050730  0.046531\n"
     ]
    }
   ],
   "source": [
    "cov_matrix = log_returns.cov()*252 #annualized covariance \n",
    "print(cov_matrix)"
   ]
  },
  {
   "cell_type": "code",
   "execution_count": 8,
   "metadata": {},
   "outputs": [
    {
     "data": {
      "text/plain": [
       "<Axes: >"
      ]
     },
     "execution_count": 8,
     "metadata": {},
     "output_type": "execute_result"
    },
    {
     "data": {
      "image/png": "[encoded data removed]",
      "text/plain": [
       "<Figure size 640x480 with 2 Axes>"
      ]
     },
     "metadata": {},
     "output_type": "display_data"
    }
   ],
   "source": [
    "sns.heatmap(cov_matrix)"
   ]
  },
  {
   "cell_type": "markdown",
   "metadata": {},
   "source": [
    "### Portfolio Metrics"
   ]
  },
  {
   "cell_type": "markdown",
   "metadata": {},
   "source": [
    "#### 1. Portfolio Risk or Standard Deviation($\\sigma$)"
   ]
  },
  {
   "cell_type": "code",
   "execution_count": 9,
   "metadata": {},
   "outputs": [],
   "source": [
    "def std_dev(weights, cov_matrix):\n",
    "    variance = weights.T @ cov_matrix @ weights\n",
    "    return np.sqrt(variance)"
   ]
  },
  {
   "cell_type": "markdown",
   "metadata": {},
   "source": [
    "#### 2. Expected Return of the Portfolio\n",
    "\n",
    "*Based on the assumption that the future returns are based on historical returns.*"
   ]
  },
  {
   "cell_type": "code",
   "execution_count": 10,
   "metadata": {},
   "outputs": [],
   "source": [
    "def exp_returns(weights, log_returns):\n",
    "    return np.sum(log_returns.mean()*weights*252) #annualized return"
   ]
  },
  {
   "cell_type": "markdown",
   "metadata": {},
   "source": [
    "#### 4. Sharpe ratio \n",
    "\n",
    "Considers the total (systematic ($\\beta$) and unsystematic) risk ($\\sigma$).\n",
    "\n",
    "$\\text{Sharpe Ratio} = \\frac{\\text{Portfolio Return}(R_p) - \\text{Risk Free Rate}(R_f)}{\\sigma}$"
   ]
  },
  {
   "cell_type": "code",
   "execution_count": 11,
   "metadata": {},
   "outputs": [],
   "source": [
    "def sharpe_ratio(weights, log_returns, cov_matrix, risk_free_rate):\n",
    "    return (exp_returns(weights, log_returns) - risk_free_rate) / std_dev(weights, cov_matrix)"
   ]
  },
  {
   "cell_type": "markdown",
   "metadata": {},
   "source": [
    "### Retrieving the Risk Free Rate\n",
    "\n",
    "The ten-year treasury rate obtained from FRED API is used as the risk free rate parameter in this portfolio optimization"
   ]
  },
  {
   "cell_type": "code",
   "execution_count": 12,
   "metadata": {},
   "outputs": [
    {
     "name": "stdout",
     "output_type": "stream",
     "text": [
      "0.044800000000000006\n"
     ]
    }
   ],
   "source": [
    "from fredapi import Fred\n",
    "\n",
    "fred = Fred(api_key='70a5960bdec357f09a4d4922e4c749d7')\n",
    "ten_year_treasury_rate = fred.get_series_latest_release('GS10') / 100 #convert the whole number into percentage\n",
    "risk_free_rate = ten_year_treasury_rate.iloc[-1]\n",
    "print(risk_free_rate)"
   ]
  },
  {
   "cell_type": "markdown",
   "metadata": {},
   "source": [
    "### Portfolio Optimization"
   ]
  },
  {
   "cell_type": "markdown",
   "metadata": {},
   "source": [
    "#### 1. Negative Sharpe Ratio\n",
    "\n",
    "To obtain the maximum Sharpe ratio to be used by scipy.optimize.minimize() function"
   ]
  },
  {
   "cell_type": "code",
   "execution_count": 13,
   "metadata": {},
   "outputs": [],
   "source": [
    "def neg_sharpe_ratio(weights, log_returns, cov_matrix, risk_free_rate):\n",
    "    return -sharpe_ratio(weights, log_returns, cov_matrix, risk_free_rate)"
   ]
  },
  {
   "cell_type": "markdown",
   "metadata": {},
   "source": [
    "#### 2. Define the Constraints and Bounds\n",
    "\n",
    "a. Constraint: The sum of the weights should be equal to 1.\n",
    "\n",
    "b. Bound: The percentage of stock from a single ticker. It should be greater than or equal to 0 or less than 50% to minimize the imbalance."
   ]
  },
  {
   "cell_type": "code",
   "execution_count": 14,
   "metadata": {},
   "outputs": [
    {
     "name": "stdout",
     "output_type": "stream",
     "text": [
      "[0.2 0.2 0.2 0.2 0.2]\n"
     ]
    }
   ],
   "source": [
    "constraints = {'type': 'eq', 'fun': lambda weights: np.sum(weights) - 1}\n",
    "bound = [(0, 0.5) for _ in range(len(tickers))]\n",
    "initial_weights = np.array([1/len(tickers)]*len(tickers))\n",
    "print(initial_weights) # it will be 20% as there are 5 tickers in this portfolio"
   ]
  },
  {
   "cell_type": "markdown",
   "metadata": {},
   "source": [
    "#### 3. Optimizing the Weights\n",
    "\n",
    "To Maximize the Sharpe Ratio\n",
    "\n",
    "SLSQP: Sequential Least Square Quadratic Programming method is used with the minimize function. It is a numerical optimization technique suitable for solving non-linear optimization problems with constraints"
   ]
  },
  {
   "cell_type": "code",
   "execution_count": 15,
   "metadata": {},
   "outputs": [],
   "source": [
    "optimized_results = minimize(neg_sharpe_ratio, initial_weights, args=(log_returns, cov_matrix, risk_free_rate), method = 'SLSQP', constraints = constraints, bounds = bound)\n",
    "optimized_weights = optimized_results.x"
   ]
  },
  {
   "cell_type": "markdown",
   "metadata": {},
   "source": [
    "#### 4. Analyzing the Optimal Portfolio"
   ]
  },
  {
   "cell_type": "code",
   "execution_count": 16,
   "metadata": {},
   "outputs": [
    {
     "name": "stdout",
     "output_type": "stream",
     "text": [
      "Optimized Weights: \n",
      "SPY: 0.0000\n",
      "BND: 0.0000\n",
      "GLD: 0.5000\n",
      "QQQ: 0.5000\n",
      "VTI: 0.0000\n",
      "\n",
      "Expected Annual Return: 0.1443\n",
      "Expected Annual Volatility: 0.1569\n",
      "Sharpe Ratio: 0.6341\n"
     ]
    }
   ],
   "source": [
    "print(\"Optimized Weights: \")\n",
    "for ticker, weight in zip(tickers, optimized_weights):\n",
    "    print(f'{ticker}: {weight:.4f}')\n",
    "\n",
    "print()\n",
    "\n",
    "optimal_portfolio_returns = exp_returns(optimized_weights, log_returns)\n",
    "optimal_portfolio_volatility = std_dev(optimized_weights, cov_matrix)\n",
    "optimal_sharpe_ratio = sharpe_ratio(optimized_weights, log_returns, cov_matrix, risk_free_rate)\n",
    "\n",
    "print(f'Expected Annual Return: {optimal_portfolio_returns:.4f}')\n",
    "print(f'Expected Annual Volatility: {optimal_portfolio_volatility:.4f}')\n",
    "print(f'Sharpe Ratio: {optimal_sharpe_ratio:.4f}')"
   ]
  },
  {
   "cell_type": "markdown",
   "metadata": {},
   "source": [
    "#### 5. Visualization of Optimal Portfolio"
   ]
  },
  {
   "cell_type": "code",
   "execution_count": 17,
   "metadata": {},
   "outputs": [
    {
     "data": {
      "image/png": "[encoded data removed]",
      "text/plain": [
       "<Figure size 1000x600 with 1 Axes>"
      ]
     },
     "metadata": {},
     "output_type": "display_data"
    }
   ],
   "source": [
    "import matplotlib.pyplot as plt\n",
    "\n",
    "plt.figure(figsize=(10,6))\n",
    "plt.bar(tickers, optimized_weights)\n",
    "\n",
    "plt.xlabel('Assets')\n",
    "plt.ylabel('Optimal Weights')\n",
    "plt.title('Optimized Portfolio')\n",
    "plt.show()"
   ]
  },
  {
   "cell_type": "code",
   "execution_count": null,
   "metadata": {},
   "outputs": [],
   "source": []
  }
 ],
 "metadata": {
  "kernelspec": {
   "display_name": "Python 3",
   "language": "python",
   "name": "python3"
  },
  "language_info": {
   "codemirror_mode": {
    "name": "ipython",
    "version": 3
   },
   "file_extension": ".py",
   "mimetype": "text/x-python",
   "name": "python",
   "nbconvert_exporter": "python",
   "pygments_lexer": "ipython3",
   "version": "3.11.6"
  }
 },
 "nbformat": 4,
 "nbformat_minor": 2
}
